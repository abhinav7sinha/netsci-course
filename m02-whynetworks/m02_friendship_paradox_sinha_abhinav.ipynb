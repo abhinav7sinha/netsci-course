{
 "cells": [
  {
   "cell_type": "markdown",
   "metadata": {
    "id": "Ktyx805wtILd"
   },
   "source": [
    "<table class=\"m01-notebook-buttons\" align=\"left\">\n",
    "  <td>\n",
    "    <a target=\"_blank\" href=\"https://colab.research.google.com/github/yy/netsci-course/blob/master/m02-whynetworks/friendship_paradox.ipynb\"><img src=\"https://www.tensorflow.org/images/colab_logo_32px.png\" />Run in Google Colab</a>\n",
    "  </td>\n",
    "  <td>\n",
    "    <a href=\"https://github.com/yy/netsci-course/blob/master/m02-whynetworks/friendship_paradox.ipynb\"><img src=\"https://www.tensorflow.org/images/GitHub-Mark-32px.png\" />View on Github</a>\n",
    "  </td>\n",
    "</table>"
   ]
  },
  {
   "cell_type": "markdown",
   "metadata": {
    "id": "SPiw3Y6utILf"
   },
   "source": [
    "# Let's examine the friendship paradox with `networkx`\n",
    "\n",
    "By now you should have a working Juptyer Lab/Notebook and be using Python 3, either through Google Colaboratory or your local Python environment. If not, go back to the previous assignment to make sure that you have a working environment!\n",
    "\n",
    "To get a good intuitive understanding of the _friendship paradox_, we are going to work through some problems and examples in this notebook. The goal is empirically testing the friendship paradox with multiple types of networks. \n",
    "\n",
    "A few tasks will be left to you to complete and submit in your own notebook. Before we dive into creating our own paradox we will go over some basic commands used in the `networkx` library. "
   ]
  },
  {
   "cell_type": "markdown",
   "metadata": {
    "id": "7nApvbTEuUva"
   },
   "source": [
    "First of all, you can ensure that all results are exactly reproducible by fixing the seed for the random number generator. This is a common technique for checking your computation that involves non-deterministic methods. "
   ]
  },
  {
   "cell_type": "code",
   "execution_count": 1,
   "metadata": {
    "id": "8c4yDVEytILg"
   },
   "outputs": [],
   "source": [
    "# Please use this random seed for submission.\n",
    "import random\n",
    "random.seed(42)     \n",
    "   \n",
    "import numpy as np\n",
    "np.random.seed(42)"
   ]
  },
  {
   "cell_type": "markdown",
   "metadata": {
    "id": "kOsewzl4uPao"
   },
   "source": [
    "## Step 1: Using networkx\n",
    "\n",
    "We are going to start by importing the networkx module:"
   ]
  },
  {
   "cell_type": "code",
   "execution_count": 2,
   "metadata": {
    "id": "8wk0jYLZtILf"
   },
   "outputs": [],
   "source": [
    "import networkx as nx"
   ]
  },
  {
   "cell_type": "markdown",
   "metadata": {
    "id": "H714NlibtILg"
   },
   "source": [
    "`import xxxxx as xx` is a common way to use widely-used Python libraries. By importing this way, we can use any of the library's classes and functions by prepending the name of the class or function with: \n",
    "\n",
    "```\n",
    "nx.\n",
    "```\n",
    "\n",
    "Networkx has extensive documention with many examples. Whenever unsure about the module, go to [the official documentation page](https://networkx.org/documentation/stable/index.html#) and search for the keywords that you are unsure about. In particular, [the official tutorial](https://networkx.org/documentation/stable/tutorial.html) is the best place to learn about the basic usage of `networkx` library. \n",
    "\n",
    "Let's start by making a simple undirected graph by hand:"
   ]
  },
  {
   "cell_type": "code",
   "execution_count": 3,
   "metadata": {
    "id": "2m6t3WActILg"
   },
   "outputs": [],
   "source": [
    "# Creates an instance of a networkx graph.\n",
    "my_first_graph = nx.Graph() \n",
    "\n",
    "# Lets add some nodes to the graph\n",
    "my_first_graph.add_node(1)\n",
    "my_first_graph.add_node(2)\n",
    "my_first_graph.add_node(3)\n",
    "\n",
    "# Now lets add some connections\n",
    "my_first_graph.add_edge(1, 2)\n",
    "my_first_graph.add_edge(3, 2)"
   ]
  },
  {
   "cell_type": "markdown",
   "metadata": {
    "id": "Ct1SA_xWtILg"
   },
   "source": [
    "We now have our first graph, which contains 3 nodes and 2 edges. We can look at it too by using `draw()` function. By the way, depending on the environment, you may have to import `matplotlib` first (see the `networkx` tutorial). \n",
    "\n",
    "`Networkx` is underpowered for network visualization and it is rarely used for any serious network visualization. However, it has basic visualization capacity that is perfectly adequate for examining small networks. "
   ]
  },
  {
   "cell_type": "code",
   "execution_count": 4,
   "metadata": {
    "colab": {
     "base_uri": "https://localhost:8080/",
     "height": 319
    },
    "id": "Y01UL2Uev_7G",
    "outputId": "983b4925-b218-4502-97ef-6a893e7dee2b"
   },
   "outputs": [
    {
     "data": {
      "image/png": "[encoded data removed]",
      "text/plain": [
       "<Figure size 432x288 with 1 Axes>"
      ]
     },
     "metadata": {},
     "output_type": "display_data"
    }
   ],
   "source": [
    "nx.draw(my_first_graph, with_labels=True)"
   ]
  },
  {
   "cell_type": "markdown",
   "metadata": {
    "id": "12C9kg1LwaIl"
   },
   "source": [
    "`add_node()` and `add_edge()` are **methods** of the class ```Graph```. Methods are member functions of classes in python and can be called from an object by using the ```.``` notation followed by the method name. We can find out some basic information about this graph using networkx functions and some default python functions:"
   ]
  },
  {
   "cell_type": "code",
   "execution_count": 5,
   "metadata": {
    "colab": {
     "base_uri": "https://localhost:8080/"
    },
    "id": "J4GrTHY_tILh",
    "outputId": "aaea63e2-b81e-455f-b253-7afdc4270fc8"
   },
   "outputs": [
    {
     "data": {
      "text/plain": [
       "3"
      ]
     },
     "execution_count": 5,
     "metadata": {},
     "output_type": "execute_result"
    }
   ],
   "source": [
    "# len() is a python function that can be applied to any object to obtain their length. \n",
    "# networkx defines the number of nodes as the \"length\" of a graph object. \n",
    "len(my_first_graph) "
   ]
  },
  {
   "cell_type": "markdown",
   "metadata": {
    "id": "mIy9DGRpxlFL"
   },
   "source": [
    "We can also look at the neighbors of a node. "
   ]
  },
  {
   "cell_type": "code",
   "execution_count": 6,
   "metadata": {
    "colab": {
     "base_uri": "https://localhost:8080/"
    },
    "id": "jPnSmHpSxmwC",
    "outputId": "8dcd5ee4-6a4b-4dd8-9142-8923f7a2d5a4"
   },
   "outputs": [
    {
     "data": {
      "text/plain": [
       "AtlasView({1: {}, 3: {}})"
      ]
     },
     "execution_count": 6,
     "metadata": {},
     "output_type": "execute_result"
    }
   ],
   "source": [
    "my_first_graph[2]"
   ]
  },
  {
   "cell_type": "code",
   "execution_count": 7,
   "metadata": {
    "colab": {
     "base_uri": "https://localhost:8080/"
    },
    "id": "G3Nuenr0yQ-2",
    "outputId": "5339e2a7-4331-4f95-850f-a8be430e5f3f"
   },
   "outputs": [
    {
     "data": {
      "text/plain": [
       "<dict_keyiterator at 0x7fd8b97a0f90>"
      ]
     },
     "execution_count": 7,
     "metadata": {},
     "output_type": "execute_result"
    }
   ],
   "source": [
    "my_first_graph.neighbors(2)"
   ]
  },
  {
   "cell_type": "markdown",
   "metadata": {
    "id": "mQpufEDT3quq"
   },
   "source": [
    "Ok. These are not exactly a list, set, or dictionary that you might have expected. `Networkx` uses \"views\" to let users to examine _read-only_ set- or dictionary-like data structures. For instance, the [`AtlasView`](https://networkx.org/documentation/stable/reference/classes/generated/networkx.classes.coreviews.AtlasView.html) is a \"view\" of a _dictionary of dictionaries_. Each node may have some attributes (e.g., labels, size, etc.) and they hold these attributes as a dictionary. Therefore, a set of neighbors of a node is a dictionary, where the keys are the neighbor nodes and the values are the attribute dictionary of each node. \n",
    "\n",
    "Similarly, calling the `neighbors()` method returns a 'key iterator' of the same dictionary. An iterator yields each successive item. Read about iterators and generators if you are not familiar with them. \n",
    "\n",
    "In both cases, you can convert them into a list like the following, "
   ]
  },
  {
   "cell_type": "code",
   "execution_count": 8,
   "metadata": {
    "colab": {
     "base_uri": "https://localhost:8080/"
    },
    "id": "zB8EZ1mLvdbM",
    "outputId": "463392c5-9aea-402e-a916-74245c7e004e"
   },
   "outputs": [
    {
     "name": "stdout",
     "output_type": "stream",
     "text": [
      "[1, 3]\n",
      "[1, 3]\n"
     ]
    }
   ],
   "source": [
    "print(list(my_first_graph[2]))\n",
    "print(list(my_first_graph.neighbors(2)))"
   ]
  },
  {
   "cell_type": "markdown",
   "metadata": {
    "id": "dGbZnTYpvqBt"
   },
   "source": [
    "Or iterate over the neighbors. "
   ]
  },
  {
   "cell_type": "code",
   "execution_count": 9,
   "metadata": {
    "colab": {
     "base_uri": "https://localhost:8080/"
    },
    "id": "1pMmMWojvtro",
    "outputId": "78fd5096-dfb7-4436-d1e4-6ecc5738c03c"
   },
   "outputs": [
    {
     "name": "stdout",
     "output_type": "stream",
     "text": [
      "1\n",
      "3\n",
      "[1, 3]\n"
     ]
    }
   ],
   "source": [
    "for node in my_first_graph[2]:\n",
    "    print(node)\n",
    "\n",
    "print([node for node in my_first_graph.neighbors(2)])"
   ]
  },
  {
   "cell_type": "markdown",
   "metadata": {
    "id": "J8ynON_MwIi9"
   },
   "source": [
    "To examine the friendship paradox, we need to also be able to calculate the degree. Once we have the set/list of neighbors, of course we can simply count them. But `networkx` also provides a `degree()` method as well. "
   ]
  },
  {
   "cell_type": "code",
   "execution_count": 10,
   "metadata": {
    "colab": {
     "base_uri": "https://localhost:8080/"
    },
    "id": "4oHeCRbutILh",
    "outputId": "3446745e-4e13-4ba9-8d53-84a842b427a6"
   },
   "outputs": [
    {
     "name": "stdout",
     "output_type": "stream",
     "text": [
      "Node 2's degree:  2\n"
     ]
    }
   ],
   "source": [
    "print(\"Node 2's degree: \", my_first_graph.degree(2))"
   ]
  },
  {
   "cell_type": "markdown",
   "metadata": {
    "id": "PeD0lEc1tILh"
   },
   "source": [
    "Make sure to review the documentation on both of these functions ([degree](https://networkx.github.io/documentation/stable/reference/classes/generated/networkx.Graph.degree.html) and [neighbors](https://networkx.github.io/documentation/stable/reference/classes/generated/networkx.Graph.neighbors.html)) so you are aware what additional arguments you can give. For instance, degree can take a sequence of nodes as an argument and return a sequence of corresponding degrees.\n",
    "\n",
    "We can also combine python control statements with `networkx` functions:"
   ]
  },
  {
   "cell_type": "code",
   "execution_count": 11,
   "metadata": {
    "colab": {
     "base_uri": "https://localhost:8080/"
    },
    "id": "_L3UB5f0tILh",
    "outputId": "873fa356-ee5f-4c23-cdb0-552aebc85f9b"
   },
   "outputs": [
    {
     "name": "stdout",
     "output_type": "stream",
     "text": [
      "Node 1 's neighbors: {2}\n",
      "Node 2 's neighbors: {1, 3}\n",
      "Node 3 's neighbors: {2}\n"
     ]
    }
   ],
   "source": [
    "# Lets get all the neighbors for each node in the graph\n",
    "for node in my_first_graph.nodes():\n",
    "    print(\"Node\", node, \"'s neighbors:\", set(my_first_graph.neighbors(node)))"
   ]
  },
  {
   "cell_type": "markdown",
   "metadata": {
    "id": "Y6CamaUStILh"
   },
   "source": [
    "This `for` loop iterates over the list returned by the networkx graph method `nodes()`. This graph method returns a list of each node in the network. Similarly, we can loop over edges using `edges()`."
   ]
  },
  {
   "cell_type": "code",
   "execution_count": 12,
   "metadata": {
    "colab": {
     "base_uri": "https://localhost:8080/"
    },
    "id": "kAxvCBUvtILi",
    "outputId": "84a5cbd9-38b5-4e8c-99f8-c7cede66cfe8"
   },
   "outputs": [
    {
     "name": "stdout",
     "output_type": "stream",
     "text": [
      "(1, 2)\n",
      "(2, 3)\n"
     ]
    }
   ],
   "source": [
    "# Quick example of iterating over edges\n",
    "for edge in my_first_graph.edges():\n",
    "    print(edge)"
   ]
  },
  {
   "cell_type": "markdown",
   "metadata": {
    "id": "Kb61tOuRtILi"
   },
   "source": [
    "## Step 2: Friendship paradox extreme examples\n",
    "\n",
    "Now let's apply some of these tools to the friendship paradox. We will start by using `networkx`'s graph generators to construct a graph for us, then we will calculate the average degree of the network. Once that is done we will calculate the average degree of the neighbors of a few random nodes in the network and compare those values with the degree of the nodes themselves.\n",
    "\n",
    "The one extreme example is the star network where the friendship paradox is extremely strong. Except the node at the center (the star), all other nodes have only one neighbor who are connected to everyone. \n",
    "\n"
   ]
  },
  {
   "cell_type": "code",
   "execution_count": 13,
   "metadata": {
    "colab": {
     "base_uri": "https://localhost:8080/",
     "height": 319
    },
    "id": "cagdnupMtILi",
    "outputId": "9e36958a-ba98-44d1-98d4-ba8f0e5fdf7a"
   },
   "outputs": [
    {
     "data": {
      "image/png": "[encoded data removed]",
      "text/plain": [
       "<Figure size 432x288 with 1 Axes>"
      ]
     },
     "metadata": {},
     "output_type": "display_data"
    }
   ],
   "source": [
    "star_graph = nx.star_graph(n=20)\n",
    "nx.draw(star_graph)"
   ]
  },
  {
   "cell_type": "code",
   "execution_count": 14,
   "metadata": {
    "colab": {
     "base_uri": "https://localhost:8080/"
    },
    "id": "L53oW9RqtILi",
    "outputId": "4cf25c7f-e7ad-49c5-91d2-0fb636cbb3d1"
   },
   "outputs": [
    {
     "name": "stdout",
     "output_type": "stream",
     "text": [
      "Average degree 1.9047619047619047\n"
     ]
    }
   ],
   "source": [
    "# Lets calculate the average degree of the graph\n",
    "degree_sum = 0.0\n",
    "for node in star_graph.nodes():\n",
    "    degree_sum += star_graph.degree(node)\n",
    "avg_degree = degree_sum / len(star_graph)\n",
    "print(\"Average degree\", avg_degree)"
   ]
  },
  {
   "cell_type": "code",
   "execution_count": 15,
   "metadata": {
    "colab": {
     "base_uri": "https://localhost:8080/"
    },
    "id": "XaAblfvltILj",
    "outputId": "c5388faa-edda-49d7-fc0e-11482ae4e628"
   },
   "outputs": [
    {
     "name": "stdout",
     "output_type": "stream",
     "text": [
      "Average degree: 1.9047619047619047\n"
     ]
    }
   ],
   "source": [
    "# Now lets do it in one line using numpy and list comprehension\n",
    "\n",
    "# Calculate the average degree of the nodes in the graph\n",
    "avg_degree = np.mean([star_graph.degree(node) for node in star_graph.nodes()])\n",
    "print(\"Average degree:\",avg_degree)"
   ]
  },
  {
   "cell_type": "markdown",
   "metadata": {
    "id": "MWP3-8RltILj"
   },
   "source": [
    "To calculate the mean, we used [numpy's mean function](http://docs.scipy.org/doc/numpy/reference/generated/numpy.mean.html), which can come in handy for quickly calculating the mean of a list or sequence along an axis. So I passed the list comprehension directly to ```np.mean``` and it returned the mean of that list. \n",
    "\n",
    "Note: Numpy uses its own data types for carrying out calculations, so if you print a numpy float it will display differently than if you printed a python float, which is why we get the intentional truncation of the value when displayed.\n",
    "\n",
    "For basic graph information, networkx also has the [info()](https://networkx.github.io/documentation/stable/reference/generated/networkx.classes.function.info.html)\n",
    "function:"
   ]
  },
  {
   "cell_type": "code",
   "execution_count": 16,
   "metadata": {
    "colab": {
     "base_uri": "https://localhost:8080/"
    },
    "id": "2mBwjPIdtILj",
    "outputId": "01bf1459-bda2-4ecb-f173-2f75ef671477",
    "scrolled": true
   },
   "outputs": [
    {
     "name": "stdout",
     "output_type": "stream",
     "text": [
      "Graph with 21 nodes and 20 edges\n"
     ]
    }
   ],
   "source": [
    "print(nx.info(star_graph))"
   ]
  },
  {
   "cell_type": "markdown",
   "metadata": {
    "id": "QIrmj6bHtILj"
   },
   "source": [
    "### Q: Average neighbor degree\n",
    "\n",
    "Now that you have seen some examples of networkx and numpy, we want you to complete the star graph example by writing a function below that calculates the average degree of a node's neighbors. Test this function to make sure that there is only one node with average neighbor degree of 1 and everyone else has 20. \n",
    "\n",
    "This involves find all of a node's neighbors and then taking the average of their degrees. The input arguments into the function should be a node and a networkx graph. The function should return a single value: the average neighbor degree for the given node. You should [learn about how to define and use Python functions](https://www.google.com/search?q=python+function&oq=python+func&aqs=chrome.0.0j69i57j0l4.2723j1j7&sourceid=chrome&ie=UTF-8) if you're not familiar with them yet. Use the space provided below:"
   ]
  },
  {
   "cell_type": "code",
   "execution_count": 29,
   "metadata": {
    "colab": {
     "base_uri": "https://localhost:8080/"
    },
    "id": "wcckqaF2tILj",
    "outputId": "f2918763-6b79-41c7-e474-ebdd936b16a2"
   },
   "outputs": [
    {
     "name": "stdout",
     "output_type": "stream",
     "text": [
      "1.0\n",
      "20.0\n",
      "20.0\n",
      "20.0\n",
      "20.0\n",
      "20.0\n",
      "20.0\n",
      "20.0\n",
      "20.0\n",
      "20.0\n",
      "20.0\n",
      "20.0\n",
      "20.0\n",
      "20.0\n",
      "20.0\n",
      "20.0\n",
      "20.0\n",
      "20.0\n",
      "20.0\n",
      "20.0\n",
      "20.0\n"
     ]
    }
   ],
   "source": [
    "def avg_neighbor_degree(G, node):\n",
    "    # Replace with your code\n",
    "    return np.mean([G.degree(target_node) for target_node in G.neighbors(node)])\n",
    "\n",
    "# Test your function here\n",
    "for node in star_graph.nodes():\n",
    "    print(avg_neighbor_degree(star_graph, node))"
   ]
  },
  {
   "cell_type": "markdown",
   "metadata": {
    "id": "7WmJji95tILj"
   },
   "source": [
    "### Q: Testing the friendship paradox\n",
    "\n",
    "We would like to check whether the friendship paradox holds for a network. The friendship paradox can be described in many different ways. Here, let's determine what fraction of nodes in the graph have a larger average neighbor degree than their own. The larger the fraction, the stronger the effect of the friendship paradox. \n",
    "\n",
    "For each node we need to find its degree, then average neighbor degree (calculated with the previous function you made). If the average is greater, then it holds for that node. To get the fraction, we can count up all the nodes it holds for and divide by the total number of nodes. Write a function below that will do this for a graph:"
   ]
  },
  {
   "cell_type": "code",
   "execution_count": 30,
   "metadata": {
    "colab": {
     "base_uri": "https://localhost:8080/"
    },
    "id": "hmaTeKfItILk",
    "outputId": "d7294974-856b-4be5-8e6b-ac44ad843089"
   },
   "outputs": [
    {
     "name": "stdout",
     "output_type": "stream",
     "text": [
      "0.9523809523809523\n"
     ]
    }
   ],
   "source": [
    "# Replace with your code\n",
    "num_target_nodes=0\n",
    "for node in star_graph.nodes():\n",
    "    if star_graph.degree(node)<avg_neighbor_degree(star_graph, node):\n",
    "        num_target_nodes+=1\n",
    "print(num_target_nodes/len(star_graph))"
   ]
  },
  {
   "cell_type": "markdown",
   "metadata": {
    "id": "YPh6ve3ktILk"
   },
   "source": [
    "Even though the star graph is a fairly trivial example it does display the friendship paradox. It is an extreme case where the average degree of the network is wildly different from the average degree of your neighbors. For all but one node (the center node 0) you have fewer friends than your friends.\n",
    "\n",
    "You can use the star graph to check if you functions work, since we know it holds in that case."
   ]
  },
  {
   "cell_type": "markdown",
   "metadata": {
    "id": "UzYVy9d-U8TA"
   },
   "source": [
    "### Q: The other extreme?\n",
    "\n",
    "Can you come up with the other extreme? Find a network where there is no friendship paradox whatsoever. In other words, for every node, their degree is the same as the any of its neighbor's degree. Can you do the same thing above to test whether this is really the case?"
   ]
  },
  {
   "cell_type": "code",
   "execution_count": 31,
   "metadata": {
    "id": "b9Vpd8cwVc3T"
   },
   "outputs": [
    {
     "data": {
      "image/png": "[encoded data removed]",
      "text/plain": [
       "<Figure size 432x288 with 1 Axes>"
      ]
     },
     "metadata": {},
     "output_type": "display_data"
    }
   ],
   "source": [
    "# Replace with your code\n",
    "cycle_graph=nx.cycle_graph(n=10)\n",
    "nx.draw(cycle_graph)"
   ]
  },
  {
   "cell_type": "code",
   "execution_count": 33,
   "metadata": {},
   "outputs": [
    {
     "name": "stdout",
     "output_type": "stream",
     "text": [
      "2.0\n",
      "2.0\n",
      "2.0\n",
      "2.0\n",
      "2.0\n",
      "2.0\n",
      "2.0\n",
      "2.0\n",
      "2.0\n",
      "2.0\n"
     ]
    }
   ],
   "source": [
    "for node in cycle_graph.nodes():\n",
    "    print(avg_neighbor_degree(cycle_graph, node))"
   ]
  },
  {
   "cell_type": "code",
   "execution_count": 35,
   "metadata": {},
   "outputs": [
    {
     "name": "stdout",
     "output_type": "stream",
     "text": [
      "0.0\n"
     ]
    }
   ],
   "source": [
    "num_target_nodes=0\n",
    "for node in cycle_graph.nodes():\n",
    "    if cycle_graph.degree(node)<avg_neighbor_degree(cycle_graph, node):\n",
    "        num_target_nodes+=1\n",
    "print(num_target_nodes/len(cycle_graph))"
   ]
  },
  {
   "cell_type": "markdown",
   "metadata": {
    "id": "BuHDGvcmtILk"
   },
   "source": [
    "## Step 3: Friendship paradox assignment\n",
    "\n",
    "Your task is to apply your function to two other types of graphs: a scale-free graph and a random graph. Random graphs are generated from randomly connecting nodes together, with each node having the same probability of being connected to any other node. They don't have much structure to them. Below is a visualization of a random graph:"
   ]
  },
  {
   "cell_type": "code",
   "execution_count": 36,
   "metadata": {
    "colab": {
     "base_uri": "https://localhost:8080/",
     "height": 319
    },
    "id": "3KUYy-rvtILk",
    "outputId": "890b1981-cd30-46eb-e233-db3f4946be50"
   },
   "outputs": [
    {
     "data": {
      "image/png": "[encoded data removed]",
      "text/plain": [
       "<Figure size 432x288 with 1 Axes>"
      ]
     },
     "metadata": {},
     "output_type": "display_data"
    }
   ],
   "source": [
    "# Draw a random graph with 20 nodes and a connection\n",
    "# probability of 0.3\n",
    "rnd_graph = nx.erdos_renyi_graph(n=20, p=0.3)\n",
    "nx.draw(rnd_graph)"
   ]
  },
  {
   "cell_type": "markdown",
   "metadata": {
    "id": "cSllOVAmtILk"
   },
   "source": [
    "Alternatively, scale-free graphs are graphs where nodes are preferentially attached to nodes with higher degree. This results in structures called 'hubs' which are nodes that have very high degree. Below is a visualization of one such network:"
   ]
  },
  {
   "cell_type": "code",
   "execution_count": 37,
   "metadata": {
    "colab": {
     "base_uri": "https://localhost:8080/",
     "height": 319
    },
    "id": "lG8mwi0DtILk",
    "outputId": "10fd4bf7-c8c0-493c-c2d7-431de941b1a9"
   },
   "outputs": [
    {
     "data": {
      "image/png": "[encoded data removed]",
      "text/plain": [
       "<Figure size 432x288 with 1 Axes>"
      ]
     },
     "metadata": {},
     "output_type": "display_data"
    }
   ],
   "source": [
    "# Draw a scale-free graph with 20 nodes\n",
    "sf_graph = nx.barabasi_albert_graph(n=20, m=4)\n",
    "nx.draw(sf_graph)"
   ]
  },
  {
   "cell_type": "markdown",
   "metadata": {
    "id": "__v1XL7MtILl"
   },
   "source": [
    "Unlike in the random graph where nodes tend to have comparable degrees that are situated pretty close to the average, the scale-free graph has many low degree nodes and a few very high degree nodes which we can see in the figure above. Many social networks tend to have this hub-like structure. We will be testing out the friendship paradox on both types of networks.\n",
    "\n",
    "You can use networkx's generator functions for making the [scale-free graph](https://networkx.github.io/documentation/stable/reference/generated/networkx.generators.random_graphs.barabasi_albert_graph.html) and the [random graph](https://networkx.github.io/documentation/stable/reference/generated/networkx.generators.random_graphs.erdos_renyi_graph.html). "
   ]
  },
  {
   "cell_type": "code",
   "execution_count": 48,
   "metadata": {},
   "outputs": [],
   "source": [
    "sf_graph_2 = nx.barabasi_albert_graph(n=200, m=3)\n",
    "rnd_graph_2 = nx.erdos_renyi_graph(n=200, p=0.2)\n",
    "\n",
    "def graph_avg_degree(G):\n",
    "    return np.mean([G.degree(node) for node in G.nodes()])\n",
    "\n",
    "def fraction_larger_degree(G):\n",
    "    num_target_nodes=0\n",
    "    for node in G.nodes():\n",
    "        if G.degree(node)<avg_neighbor_degree(G, node):\n",
    "            num_target_nodes+=1\n",
    "    return num_target_nodes/len(G)"
   ]
  },
  {
   "cell_type": "markdown",
   "metadata": {
    "id": "uxiHIA2qtILl"
   },
   "source": [
    "### Q: Scale-free graph\n",
    "For the scale-free graph use the parameters ```n=200``` and ```m=3```. You should answer the following questions:\n",
    "\n",
    "#### 1. What is the average degree of the graph?"
   ]
  },
  {
   "cell_type": "code",
   "execution_count": 49,
   "metadata": {
    "id": "h7RBbJ1CtILl"
   },
   "outputs": [
    {
     "name": "stdout",
     "output_type": "stream",
     "text": [
      "5.91\n"
     ]
    }
   ],
   "source": [
    "print(graph_avg_degree(sf_graph_2))"
   ]
  },
  {
   "cell_type": "markdown",
   "metadata": {
    "id": "HduUMi5ftILl"
   },
   "source": [
    "#### 2. What fraction of nodes in the graph have a larger average neighbor degree than their degree?"
   ]
  },
  {
   "cell_type": "code",
   "execution_count": 50,
   "metadata": {
    "id": "LkKFzw2MtILl"
   },
   "outputs": [
    {
     "name": "stdout",
     "output_type": "stream",
     "text": [
      "0.89\n"
     ]
    }
   ],
   "source": [
    "print(fraction_larger_degree(sf_graph_2))"
   ]
  },
  {
   "cell_type": "markdown",
   "metadata": {
    "id": "M7kUb4DEtILm"
   },
   "source": [
    "#### 3. Did the friendship paradox occur in the scale-free graph? If so, why did it? If not, why not? (provide your response in the markdown cell below)"
   ]
  },
  {
   "cell_type": "markdown",
   "metadata": {
    "id": "wOrVXRyFtILm"
   },
   "source": [
    "Yes, friendship paradox did occur in the scale-free graph. This is because a significant proportion of the nodes (86%) had connections less than the average number of connections of their neighbors."
   ]
  },
  {
   "cell_type": "markdown",
   "metadata": {
    "id": "_KGwzYuQtILm"
   },
   "source": [
    "### Q: Random graph\n",
    "\n",
    "For the erdos-renyi graph use the parameters ```n=200``` and ```p=0.2```.\n",
    "\n",
    "#### 1. What is the average degree of the graph?"
   ]
  },
  {
   "cell_type": "code",
   "execution_count": 51,
   "metadata": {
    "id": "g3yV3tNctILm"
   },
   "outputs": [
    {
     "name": "stdout",
     "output_type": "stream",
     "text": [
      "40.9\n"
     ]
    }
   ],
   "source": [
    "print(graph_avg_degree(rnd_graph_2))"
   ]
  },
  {
   "cell_type": "markdown",
   "metadata": {
    "id": "J0KLPPzltILm"
   },
   "source": [
    "#### 2. What fraction of nodes in the graph have a larger average neighbor degree than their degree?"
   ]
  },
  {
   "cell_type": "code",
   "execution_count": 52,
   "metadata": {
    "id": "djC3u7ahtILm"
   },
   "outputs": [
    {
     "name": "stdout",
     "output_type": "stream",
     "text": [
      "0.575\n"
     ]
    }
   ],
   "source": [
    "print(fraction_larger_degree(rnd_graph_2))"
   ]
  },
  {
   "cell_type": "markdown",
   "metadata": {
    "id": "Shd8mt4qtILm"
   },
   "source": [
    "#### 3. Did the friendship paradox occur in the random graph? If so, why did it? If not, why not?"
   ]
  },
  {
   "cell_type": "markdown",
   "metadata": {
    "id": "XTL7DQ5ZtILm"
   },
   "source": [
    "Yes, friendship paradox did occur in the random graph. This is because more than half of the nodes had connections less than the average number of connections of their neighbors."
   ]
  },
  {
   "cell_type": "markdown",
   "metadata": {
    "id": "TNjnPg6dtILm"
   },
   "source": [
    "**Rename your notebook as 'friendship_lastname_firstname'. Export it as an HTML file as well. Upload both to Canvas.**"
   ]
  },
  {
   "cell_type": "markdown",
   "metadata": {
    "id": "5WZjTk65Wg7-"
   },
   "source": [
    "# Optional exercise\n",
    "\n",
    "Above, we compared the node's degree with the _average degree of its neighbors_. But we can also ask: what's the probability that a _random neighbor of a randomly chosen node_ has a larger degree than the randomly chosen node? Can you test this? "
   ]
  },
  {
   "cell_type": "code",
   "execution_count": null,
   "metadata": {
    "id": "MA9sysi-WiPU"
   },
   "outputs": [],
   "source": []
  },
  {
   "cell_type": "markdown",
   "metadata": {},
   "source": [
    "Also, we have only examined model networks. How about real networks? There are several repositories of real-world networks. For instance,\n",
    "\n",
    "- https://icon.colorado.edu\n",
    "- https://networks.skewed.de \n",
    "\n",
    "It may be fun to test how many networks you can find that have the friendship paradox!"
   ]
  },
  {
   "cell_type": "markdown",
   "metadata": {},
   "source": []
  }
 ],
 "metadata": {
  "anaconda-cloud": {},
  "colab": {
   "collapsed_sections": [],
   "name": "m02-friendship-paradox",
   "provenance": []
  },
  "kernelspec": {
   "display_name": "Python 3 (ipykernel)",
   "language": "python",
   "name": "python3"
  },
  "language_info": {
   "codemirror_mode": {
    "name": "ipython",
    "version": 3
   },
   "file_extension": ".py",
   "mimetype": "text/x-python",
   "name": "python",
   "nbconvert_exporter": "python",
   "pygments_lexer": "ipython3",
   "version": "3.8.8"
  }
 },
 "nbformat": 4,
 "nbformat_minor": 1
}
